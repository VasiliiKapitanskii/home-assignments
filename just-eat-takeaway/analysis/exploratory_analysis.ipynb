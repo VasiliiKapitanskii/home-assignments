{
 "cells": [
  {
   "cell_type": "code",
   "execution_count": 21,
   "metadata": {},
   "outputs": [],
   "source": [
    "import duckdb\n",
    "\n",
    "metadata_csv_path = '../task/data/metadata_category_clothing_shoes_and_jewelry_only.csv'\n",
    "reviews_csv_path = '../task/data/reviews_Clothing_Shoes_and_Jewelry_5.csv'\n",
    "\n",
    "# Connect DuckDB to an in-memory database\n",
    "con = duckdb.connect(database=':memory:')"
   ]
  },
  {
   "cell_type": "code",
   "execution_count": 22,
   "metadata": {},
   "outputs": [
    {
     "name": "stdout",
     "output_type": "stream",
     "text": [
      "   metadataid        asin           salesrank  \\\n",
      "0     2005401  B00004SR8Z  {'Clothing': 1631}   \n",
      "1     2217897  B0000ZE74A  {'Clothing': 4742}   \n",
      "2     2220611  B00012O12A     {'Clothing': 4}   \n",
      "3     2324985  B0002XSXWC   {'Clothing': 300}   \n",
      "4     2348742  B00066TWMU  {'Clothing': 1199}   \n",
      "\n",
      "                                               imurl  \\\n",
      "0  http://ecx.images-amazon.com/images/I/41RfWLMD...   \n",
      "1  http://ecx.images-amazon.com/images/I/41ryA-RO...   \n",
      "2  http://ecx.images-amazon.com/images/I/41Dd7rCH...   \n",
      "3  http://ecx.images-amazon.com/images/I/41-HS7D7...   \n",
      "4  http://ecx.images-amazon.com/images/I/51UNLUB4...   \n",
      "\n",
      "                                          categories  \\\n",
      "0  [['Clothing, Shoes & Jewelry', 'Luggage & Trav...   \n",
      "1  [['Clothing, Shoes & Jewelry', 'Women', 'Cloth...   \n",
      "2  [['Clothing, Shoes & Jewelry', 'Men', 'Clothin...   \n",
      "3  [['Sports & Outdoors', 'Clothing', 'Men', 'Shi...   \n",
      "4  [['Clothing, Shoes & Jewelry', 'ASICS'], ['Clo...   \n",
      "\n",
      "                                               title description  price  \\\n",
      "0                   Lewis N. Clark Deluxe Neck Stash        None  12.80   \n",
      "1  Vanity Fair Women's Lollipop Plus Size Cuff Le...        None    NaN   \n",
      "2                  Levi's Men's 505 Regular-Fit Jean        None    NaN   \n",
      "3  Columbia Men's Bonehead Short Sleeve Fishing S...        None    NaN   \n",
      "4                                ASICS Mesh Backpack        None  12.41   \n",
      "\n",
      "                                             related           brand  \n",
      "0  {'also_bought': ['B004RJWFDU', 'B00920ZC3O', '...  Lewis N. Clark  \n",
      "1  {'also_bought': ['B004PEHJ6U', 'B0000TF5VK', '...            None  \n",
      "2  {'also_bought': ['B0018OR118', 'B003M2X1VI', '...            None  \n",
      "3  {'also_bought': ['B0031RFWMU', 'B0050VLSLO', '...            None  \n",
      "4  {'also_bought': ['B009DB3RS4', 'B001PFA35G', '...           ASICS  \n"
     ]
    }
   ],
   "source": [
    "# exploring metadata csv\n",
    "con.execute(f\"CREATE VIEW metadata AS SELECT * FROM read_csv_auto('{metadata_csv_path}')\")\n",
    "df = con.execute(\"SELECT * FROM metadata LIMIT 5\").df()\n",
    "\n",
    "print(df)"
   ]
  },
  {
   "cell_type": "code",
   "execution_count": 23,
   "metadata": {},
   "outputs": [
    {
     "name": "stdout",
     "output_type": "stream",
     "text": [
      "   column0      reviewerID        asin                 reviewerName helpful  \\\n",
      "0        0  A1KLRMWW2FWPL4  0000031887  Amazon Customer \"cameramom\"  [0, 0]   \n",
      "1        1  A2G5TCU2WDFZ65  0000031887              Amazon Customer  [0, 0]   \n",
      "2        2  A1RLQXYNCMWRWN  0000031887                       Carola  [0, 0]   \n",
      "3        3   A8U3FAMSJVHS5  0000031887                      Caromcg  [0, 0]   \n",
      "4        4  A3GEOILWLK86XM  0000031887                           CJ  [0, 0]   \n",
      "\n",
      "                                          reviewText  overall  \\\n",
      "0  This is a great tutu and at a really great pri...      5.0   \n",
      "1  I bought this for my 4 yr old daughter for dan...      5.0   \n",
      "2  What can I say... my daughters have it in oran...      5.0   \n",
      "3  We bought several tutus at once, and they are ...      5.0   \n",
      "4  Thank you Halo Heaven great product for Little...      5.0   \n",
      "\n",
      "                         summary  unixReviewTime   reviewTime  \n",
      "0  Great tutu-  not cheaply made      1297468800  02 12, 2011  \n",
      "1                    Very Cute!!      1358553600  01 19, 2013  \n",
      "2       I have buy more than one      1357257600   01 4, 2013  \n",
      "3               Adorable, Sturdy      1398556800  04 27, 2014  \n",
      "4        Grammy's Angels Love it      1394841600  03 15, 2014  \n"
     ]
    }
   ],
   "source": [
    "# exploring reviews csv\n",
    "con.execute(f\"CREATE VIEW reviews AS SELECT * FROM read_csv_auto('{reviews_csv_path}')\")\n",
    "df = con.execute(\"SELECT * FROM reviews LIMIT 5\").df()\n",
    "\n",
    "print(df)"
   ]
  },
  {
   "cell_type": "code",
   "execution_count": 24,
   "metadata": {},
   "outputs": [
    {
     "name": "stdout",
     "output_type": "stream",
     "text": [
      "   total_reviews  unique_reviewers\n",
      "0         278677             39387\n"
     ]
    }
   ],
   "source": [
    "# Analysis Example 1: Count the total number of reviews and the number of unique reviewers\n",
    "query = \"\"\"\n",
    "SELECT\n",
    "    COUNT(*) AS total_reviews\n",
    "    , COUNT(DISTINCT reviewerID) AS unique_reviewers\n",
    "FROM reviews\n",
    "\"\"\"\n",
    "review_counts = con.execute(query).df()\n",
    "print(review_counts)"
   ]
  },
  {
   "cell_type": "code",
   "execution_count": 25,
   "metadata": {},
   "outputs": [
    {
     "name": "stdout",
     "output_type": "stream",
     "text": [
      "       reviewerID  total_reviews\n",
      "0  A2J4XMWKR8PPD0            136\n",
      "1  A2GA55P7WGHJCP             76\n",
      "2  A2KBV88FL48CFS             69\n",
      "3   AENH50GW3OKDA             68\n",
      "4  A2V5R832QCSOMX             62\n"
     ]
    }
   ],
   "source": [
    "# Analysis Example 2: Find top 5 reviewers by the number of reviews\n",
    "query = \"\"\"\n",
    "SELECT\n",
    "    reviewerID\n",
    "    , COUNT(*) AS total_reviews\n",
    "FROM reviews\n",
    "GROUP BY reviewerID\n",
    "ORDER BY total_reviews DESC\n",
    "LIMIT 5\n",
    "\"\"\"\n",
    "top_reviewers = con.execute(query).df()\n",
    "print(top_reviewers)"
   ]
  },
  {
   "cell_type": "code",
   "execution_count": 26,
   "metadata": {},
   "outputs": [
    {
     "name": "stdout",
     "output_type": "stream",
     "text": [
      "                                               title  price  total_reviews\n",
      "0  Vintage, Retro Colorful Crystal Owl Pendant an...   3.00            172\n",
      "1  Ladies Scoop Neck Stretchy Long Sleeve Knitted...   9.39             84\n",
      "2  Sloggers  Women's Rain and Garden Boot with &q...  25.99             77\n",
      "3   Lock Laces Elastic Shoelace and Fastening System   7.99             73\n",
      "4  Retro Peacock Crystal Necklace Pendant Jewelry...   2.78             73\n"
     ]
    }
   ],
   "source": [
    "# Analysis Example 3: Get titles and prices of top 5 most reviewed products with price for 2014\n",
    "query = \"\"\"\n",
    "SELECT \n",
    "    m.title\n",
    "    , m.price\n",
    "    , COUNT(*) AS total_reviews\n",
    "FROM metadata AS m\n",
    "LEFT JOIN reviews AS r ON m.asin = r.asin\n",
    "WHERE TRUE\n",
    "    AND m.price IS NOT NULL\n",
    "    AND YEAR(strptime(r.reviewTime, '%m %d, %Y')) = 2014\n",
    "GROUP BY ALL\n",
    "ORDER BY total_reviews DESC\n",
    "LIMIT 5\n",
    "\"\"\"\n",
    "top_products = con.execute(query).df()\n",
    "print(top_products)"
   ]
  },
  {
   "cell_type": "code",
   "execution_count": 27,
   "metadata": {},
   "outputs": [],
   "source": [
    "con.close()"
   ]
  }
 ],
 "metadata": {
  "kernelspec": {
   "display_name": ".venv",
   "language": "python",
   "name": "python3"
  },
  "language_info": {
   "codemirror_mode": {
    "name": "ipython",
    "version": 3
   },
   "file_extension": ".py",
   "mimetype": "text/x-python",
   "name": "python",
   "nbconvert_exporter": "python",
   "pygments_lexer": "ipython3",
   "version": "3.11.4"
  }
 },
 "nbformat": 4,
 "nbformat_minor": 2
}
